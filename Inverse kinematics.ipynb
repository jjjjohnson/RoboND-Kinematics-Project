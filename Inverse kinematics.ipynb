{
 "cells": [
  {
   "cell_type": "code",
   "execution_count": 1,
   "metadata": {
    "collapsed": true
   },
   "outputs": [],
   "source": [
    "from sympy import *"
   ]
  },
  {
   "cell_type": "code",
   "execution_count": 3,
   "metadata": {
    "collapsed": true
   },
   "outputs": [],
   "source": [
    "q1, q2, q3 = symbols('q1:4')\n",
    "d1, d2, d3 = symbols('d1:4')\n",
    "a0, a1, a2 = symbols('a0:3')\n",
    "alpha0, alpha1, alpha2 = symbols('alpha0:3')"
   ]
  },
  {
   "cell_type": "code",
   "execution_count": 9,
   "metadata": {
    "collapsed": false
   },
   "outputs": [],
   "source": [
    "s = {alpha0: pi/2,      a0:   2,      d1: 0, \n",
    "    alpha1: pi/2,  a1: 0,     d2: 0,  \n",
    "    alpha2: 0,      a2: 0 , q3:0}"
   ]
  },
  {
   "cell_type": "code",
   "execution_count": 29,
   "metadata": {
    "collapsed": false
   },
   "outputs": [
    {
     "data": {
      "text/plain": [
       "Matrix([\n",
       "[cos(q1), -sin(q1)*cos(alpha0),  sin(alpha0)*sin(q1), a0*cos(q1)],\n",
       "[sin(q1),  cos(alpha0)*cos(q1), -sin(alpha0)*cos(q1), a0*sin(q1)],\n",
       "[      0,          sin(alpha0),          cos(alpha0),         d1],\n",
       "[      0,                    0,                    0,          1]])"
      ]
     },
     "execution_count": 29,
     "metadata": {},
     "output_type": "execute_result"
    }
   ],
   "source": [
    "T_z = Matrix([[cos(q1), -sin(q1), 0, 0],\n",
    "            [sin(q1), cos(q1), 0, 0],\n",
    "            [0, 0, 1, d1],\n",
    "            [0, 0, 0, 1]])\n",
    "T_x = Matrix([[1, 0, 0, a0],\n",
    "              [0, cos(alpha0), -sin(alpha0), 0],\n",
    "              [0, sin(alpha0), cos(alpha0), 0],\n",
    "              [0, 0, 0, 1]])\n",
    "\n",
    "T_z * T_x"
   ]
  },
  {
   "cell_type": "code",
   "execution_count": 17,
   "metadata": {
    "collapsed": false
   },
   "outputs": [],
   "source": [
    "T0_1 = Matrix([\n",
    "                [cos(q1), -sin(q1)*cos(alpha0),  sin(alpha0)*sin(q1), a0*cos(q1)],\n",
    "                [sin(q1),  cos(alpha0)*cos(q1), -sin(alpha0)*cos(q1), a0*sin(q1)],\n",
    "                [      0,          sin(alpha0),          cos(alpha0),         d1],\n",
    "                [      0,                    0,                    0,          1]])\n",
    "T0_1 = T0_1.subs(s)\n",
    "\n",
    "T1_2 =Matrix([\n",
    "                [cos(q2), -sin(q2)*cos(alpha1),  sin(alpha1)*sin(q2), a1*cos(q2)],\n",
    "                [sin(q2),  cos(alpha1)*cos(q2), -sin(alpha1)*cos(q2), a1*sin(q2)],\n",
    "                [      0,          sin(alpha1),          cos(alpha1),         d2],\n",
    "                [      0,                    0,                    0,          1]])\n",
    "T1_2 = T1_2.subs(s)\n",
    "\n",
    "T2_3 = Matrix([\n",
    "                [cos(q3), -sin(q3)*cos(alpha2),  sin(alpha2)*sin(q3), a2*cos(q3)],\n",
    "                [sin(q3),  cos(alpha2)*cos(q3), -sin(alpha2)*cos(q3), a2*sin(q3)],\n",
    "                [      0,          sin(alpha2),          cos(alpha2),         d3],\n",
    "                [      0,                    0,                    0,          1]])\n",
    "T2_3 = T2_3.subs(s)"
   ]
  },
  {
   "cell_type": "code",
   "execution_count": 31,
   "metadata": {
    "collapsed": false
   },
   "outputs": [
    {
     "name": "stdout",
     "output_type": "stream",
     "text": [
      "Matrix([[d3*sin(q2)*cos(q1) + 2*cos(q1)], [d3*sin(q1)*sin(q2) + 2*sin(q1)], [-d3*cos(q2)]])\n"
     ]
    },
    {
     "data": {
      "text/plain": [
       "Matrix([\n",
       "[-d3*sin(q1)*sin(q2) - 2*sin(q1), d3*cos(q1)*cos(q2), sin(q2)*cos(q1)],\n",
       "[ d3*sin(q2)*cos(q1) + 2*cos(q1), d3*sin(q1)*cos(q2), sin(q1)*sin(q2)],\n",
       "[                              0,         d3*sin(q2),        -cos(q2)]])"
      ]
     },
     "execution_count": 31,
     "metadata": {},
     "output_type": "execute_result"
    }
   ],
   "source": [
    "trans = (T0_1 * T1_2 * T2_3)[:3, 3]\n",
    "print(trans)\n",
    "q = Matrix([q1, q2, d3])\n",
    "J = trans.jacobian(q)\n",
    "J"
   ]
  },
  {
   "cell_type": "code",
   "execution_count": 35,
   "metadata": {
    "collapsed": false
   },
   "outputs": [
    {
     "name": "stdout",
     "output_type": "stream",
     "text": [
      "d3*(d3*sin(q2) + 2)\n"
     ]
    }
   ],
   "source": [
    "det = simplify(J.det())\n",
    "print(det)"
   ]
  },
  {
   "cell_type": "code",
   "execution_count": 41,
   "metadata": {
    "collapsed": false
   },
   "outputs": [
    {
     "data": {
      "text/plain": [
       "2"
      ]
     },
     "execution_count": 41,
     "metadata": {},
     "output_type": "execute_result"
    }
   ],
   "source": [
    "det.subs({q1:pi/2, q2: 0, d3:1})"
   ]
  },
  {
   "cell_type": "code",
   "execution_count": 2,
   "metadata": {
    "collapsed": true
   },
   "outputs": [],
   "source": [
    "# Define DH param and joint angle  symbols \n",
    "q1, q2, q3, q4, q5, q6, q7 = symbols('q1:8') # theta_i\n",
    "d1, d2, d3, d4, d5, d6, d7 = symbols('d1:8')\n",
    "a0, a1, a2, a3, a4, a5, a6 = symbols('a0:7')\n",
    "alpha0, alpha1, alpha2, alpha3, alpha4, alpha5, alpha6 = symbols('alpha0:7')\n",
    "\n",
    "\n",
    "# Modified DH params\n",
    "s = {alpha0: 0,      a0:   0,      d1: 0.75, \n",
    "    alpha1: -pi/2,  a1: 0.35,     d2: 0,      q2: q2-pi/2,  \n",
    "    alpha2: 0,      a2: 1.25,     d3: 0,\n",
    "    alpha3: -pi/2,  a3: -0.054,   d4: 1.5,\n",
    "    alpha4: pi/2,   a4:   0,      d5: 0, \n",
    "    alpha5: -pi/2,  a5: 0,        d6: 0,  \n",
    "    alpha6: 0,      a6: 0,        d7: 0.303,  q7: 0}\n",
    "\n",
    "\n",
    "# Define Modified DH Transformation matrix\n",
    "T0_1 = Matrix([[             cos(q1),            -sin(q1),            0,              a0],\n",
    "               [ sin(q1)*cos(alpha0), cos(q1)*cos(alpha0), -sin(alpha0), -sin(alpha0)*d1],\n",
    "               [ sin(q1)*sin(alpha0), cos(q1)*sin(alpha0),  cos(alpha0),  cos(alpha0)*d1],\n",
    "               [                   0,                   0,            0,               1]])\n",
    "T0_1 = T0_1.subs(s)\n",
    "\n",
    "T1_2 = Matrix([[             cos(q2),            -sin(q2),            0,              a1],\n",
    "               [ sin(q2)*cos(alpha1), cos(q2)*cos(alpha1), -sin(alpha1), -sin(alpha1)*d2],\n",
    "               [ sin(q2)*sin(alpha1), cos(q2)*sin(alpha1),  cos(alpha1),  cos(alpha1)*d2],\n",
    "               [                   0,                   0,            0,               1]])\n",
    "T1_2 = T1_2.subs(s)\n",
    "\n",
    "T2_3 = Matrix([[             cos(q3),            -sin(q3),            0,              a2],\n",
    "               [ sin(q3)*cos(alpha2), cos(q3)*cos(alpha2), -sin(alpha2), -sin(alpha2)*d3],\n",
    "               [ sin(q3)*sin(alpha2), cos(q3)*sin(alpha2),  cos(alpha2),  cos(alpha2)*d3],\n",
    "               [                   0,                   0,            0,               1]])\n",
    "T2_3 = T2_3.subs(s)\n",
    "\n",
    "T3_4 = Matrix([[             cos(q4),            -sin(q4),            0,              a3],\n",
    "               [ sin(q4)*cos(alpha3), cos(q4)*cos(alpha3), -sin(alpha3), -sin(alpha3)*d4],\n",
    "               [ sin(q4)*sin(alpha3), cos(q4)*sin(alpha3),  cos(alpha3),  cos(alpha3)*d4],\n",
    "               [                   0,                   0,            0,               1]])\n",
    "T3_4 = T3_4.subs(s)\n",
    "\n",
    "T4_5 = Matrix([[             cos(q5),            -sin(q5),            0,              a4],\n",
    "               [ sin(q5)*cos(alpha4), cos(q5)*cos(alpha4), -sin(alpha4), -sin(alpha4)*d5],\n",
    "               [ sin(q5)*sin(alpha4), cos(q5)*sin(alpha4),  cos(alpha4),  cos(alpha4)*d5],\n",
    "               [                   0,                   0,            0,               1]])\n",
    "T4_5 = T4_5.subs(s)\n",
    "\n",
    "T5_6 = Matrix([[             cos(q6),            -sin(q6),            0,              a5],\n",
    "               [ sin(q6)*cos(alpha5), cos(q6)*cos(alpha5), -sin(alpha5), -sin(alpha5)*d6],\n",
    "               [ sin(q6)*sin(alpha5), cos(q6)*sin(alpha5),  cos(alpha5),  cos(alpha5)*d6],\n",
    "               [                   0,                   0,            0,               1]])\n",
    "T5_6 = T5_6.subs(s)\n",
    "\n",
    "T6_G = Matrix([[             cos(q7),            -sin(q7),            0,              a6],\n",
    "               [ sin(q7)*cos(alpha6), cos(q7)*cos(alpha6), -sin(alpha6), -sin(alpha6)*d7],\n",
    "               [ sin(q7)*sin(alpha6), cos(q7)*sin(alpha6),  cos(alpha6),  cos(alpha6)*d7],\n",
    "               [                   0,                   0,            0,               1]])\n",
    "T6_G = T6_G.subs(s)\n",
    "\n",
    "# Create individual transformation matrices\n",
    "T0_2 = simplify(T0_1 * T1_2)\n",
    "T0_3 = simplify(T0_2 * T2_3)\n",
    "T0_4 = simplify(T0_3 * T3_4)\n",
    "T0_5 = simplify(T0_4 * T4_5)\n",
    "T0_6 = simplify(T0_5 * T5_6)\n",
    "T0_G = simplify(T0_6 * T6_G)"
   ]
  },
  {
   "cell_type": "code",
   "execution_count": 4,
   "metadata": {
    "collapsed": false
   },
   "outputs": [
    {
     "data": {
      "text/plain": [
       "Matrix([\n",
       "[(1.25*sin(q2) - 0.054*sin(q2 + q3) + 1.5*cos(q2 + q3) + 0.35)*cos(q1)],\n",
       "[(1.25*sin(q2) - 0.054*sin(q2 + q3) + 1.5*cos(q2 + q3) + 0.35)*sin(q1)],\n",
       "[         -1.5*sin(q2 + q3) + 1.25*cos(q2) - 0.054*cos(q2 + q3) + 0.75],\n",
       "[                                                                    1]])"
      ]
     },
     "execution_count": 4,
     "metadata": {},
     "output_type": "execute_result"
    }
   ],
   "source": [
    "T0_5.col(3)"
   ]
  },
  {
   "cell_type": "code",
   "execution_count": 26,
   "metadata": {
    "collapsed": true
   },
   "outputs": [],
   "source": [
    "q_1 = 1.2\n",
    "q_2 = 0.6 \n",
    "q_3 = -1.13"
   ]
  },
  {
   "cell_type": "code",
   "execution_count": 27,
   "metadata": {
    "collapsed": false
   },
   "outputs": [
    {
     "data": {
      "text/plain": [
       "Matrix([\n",
       "[0.861437618443232],\n",
       "[ 2.21574816763939],\n",
       "[ 2.49337794863657],\n",
       "[              1.0]])"
      ]
     },
     "execution_count": 27,
     "metadata": {},
     "output_type": "execute_result"
    }
   ],
   "source": [
    "T0_5.evalf(subs={q1:q_1, q2: q_2, q3:q_3}).col(3)"
   ]
  },
  {
   "cell_type": "code",
   "execution_count": 4,
   "metadata": {
    "collapsed": false
   },
   "outputs": [],
   "source": [
    "WC_position = Matrix([[1.4892], [0.57764], [3.1146], [1]])"
   ]
  },
  {
   "cell_type": "code",
   "execution_count": 5,
   "metadata": {
    "collapsed": false
   },
   "outputs": [
    {
     "data": {
      "text/plain": [
       "0.370019950244469"
      ]
     },
     "execution_count": 5,
     "metadata": {},
     "output_type": "execute_result"
    }
   ],
   "source": [
    "theta1 = atan2(0.57764, 1.4892)\n",
    "theta1"
   ]
  },
  {
   "cell_type": "code",
   "execution_count": 6,
   "metadata": {
    "collapsed": true
   },
   "outputs": [],
   "source": [
    "l_2 = pow((sqrt(WC_position[0]*WC_position[0] + WC_position[1]*WC_position[1]) - 0.35),2) + pow((WC_position[2]- 0.75), 2)\n",
    "l = sqrt(l_2)"
   ]
  },
  {
   "cell_type": "code",
   "execution_count": 7,
   "metadata": {
    "collapsed": false
   },
   "outputs": [
    {
     "data": {
      "text/plain": [
       "0.370019950244469"
      ]
     },
     "execution_count": 7,
     "metadata": {},
     "output_type": "execute_result"
    }
   ],
   "source": [
    "theta1 = atan2(WC_position[1], WC_position[0])\n",
    "theta1"
   ]
  },
  {
   "cell_type": "code",
   "execution_count": 8,
   "metadata": {
    "collapsed": false
   },
   "outputs": [
    {
     "data": {
      "text/plain": [
       "2.66645055728926"
      ]
     },
     "execution_count": 8,
     "metadata": {},
     "output_type": "execute_result"
    }
   ],
   "source": [
    "acos((1.25*1.25 + 1.5*1.5 - l_2)/(2*1.25*1.5))"
   ]
  },
  {
   "cell_type": "code",
   "execution_count": 9,
   "metadata": {
    "collapsed": true
   },
   "outputs": [],
   "source": [
    "theta3 = -acos((3.8125 - l_2)/3.75) + atan2(1.5, 0.054)"
   ]
  },
  {
   "cell_type": "code",
   "execution_count": 10,
   "metadata": {
    "collapsed": false
   },
   "outputs": [
    {
     "data": {
      "text/plain": [
       "-1.13163869057642"
      ]
     },
     "execution_count": 10,
     "metadata": {},
     "output_type": "execute_result"
    }
   ],
   "source": [
    "theta3"
   ]
  },
  {
   "cell_type": "code",
   "execution_count": 11,
   "metadata": {
    "collapsed": false
   },
   "outputs": [
    {
     "data": {
      "text/plain": [
       "0.226020940203080"
      ]
     },
     "execution_count": 11,
     "metadata": {},
     "output_type": "execute_result"
    }
   ],
   "source": [
    "theta2 = 1.571 - asin((WC_position[2]-0.75)/l) - acos((l_2 - 0.6875)/(2.5*l))\n",
    "theta2"
   ]
  },
  {
   "cell_type": "code",
   "execution_count": 108,
   "metadata": {
    "collapsed": false
   },
   "outputs": [
    {
     "data": {
      "text/plain": [
       "Matrix([\n",
       "[sin(q2 + q3)*cos(q1), cos(q1)*cos(q2 + q3), -sin(q1), (1.25*sin(q2) + 0.35)*cos(q1)],\n",
       "[sin(q1)*sin(q2 + q3), sin(q1)*cos(q2 + q3),  cos(q1), (1.25*sin(q2) + 0.35)*sin(q1)],\n",
       "[        cos(q2 + q3),        -sin(q2 + q3),        0,           1.25*cos(q2) + 0.75],\n",
       "[                   0,                    0,        0,                             1]])"
      ]
     },
     "execution_count": 108,
     "metadata": {},
     "output_type": "execute_result"
    }
   ],
   "source": [
    "T0_3"
   ]
  },
  {
   "cell_type": "code",
   "execution_count": 86,
   "metadata": {
    "collapsed": true
   },
   "outputs": [],
   "source": [
    "R0_3=Matrix([[sin(q2 + q3)*cos(q1), cos(q1)*cos(q2 + q3), -sin(q1)],\n",
    "             [sin(q1)*sin(q2 + q3), sin(q1)*cos(q2 + q3),  cos(q1)],\n",
    "             [cos(q2 + q3),        -sin(q2 + q3),        0]])"
   ]
  },
  {
   "cell_type": "code",
   "execution_count": 87,
   "metadata": {
    "collapsed": true
   },
   "outputs": [],
   "source": [
    "R0_3_eval = R0_3.evalf(subs={q1:0.3, q2:0.5, q3:1})"
   ]
  },
  {
   "cell_type": "code",
   "execution_count": 90,
   "metadata": {
    "collapsed": false
   },
   "outputs": [
    {
     "data": {
      "text/plain": [
       "Matrix([\n",
       "[ 0.952943358422711, 0.0675778298917933, -0.29552020666134],\n",
       "[  0.29477992458488, 0.0209042724554844, 0.955336489125606],\n",
       "[0.0707372016677029, -0.997494986604054,                 0]])'"
      ]
     },
     "execution_count": 90,
     "metadata": {},
     "output_type": "execute_result"
    }
   ],
   "source": [
    "Transpose(R0_3_eval)"
   ]
  },
  {
   "cell_type": "code",
   "execution_count": 88,
   "metadata": {
    "collapsed": false
   },
   "outputs": [
    {
     "data": {
      "text/plain": [
       "Matrix([\n",
       "[ 0.952943358422711,   0.29477992458488, 0.0707372016677029],\n",
       "[0.0675778298917933, 0.0209042724554844, -0.997494986604054],\n",
       "[ -0.29552020666134,  0.955336489125606,                  0]])"
      ]
     },
     "execution_count": 88,
     "metadata": {},
     "output_type": "execute_result"
    }
   ],
   "source": [
    "R0_3.inv().evalf(subs={q1:0.3, q2:0.5, q3:1})"
   ]
  },
  {
   "cell_type": "code",
   "execution_count": 89,
   "metadata": {
    "collapsed": false
   },
   "outputs": [
    {
     "data": {
      "text/plain": [
       "Matrix([\n",
       "[1.0,                     0,                     0],\n",
       "[  0,                   1.0, -3.46944695195361e-18],\n",
       "[  0, -3.46944695195361e-18,                   1.0]])"
      ]
     },
     "execution_count": 89,
     "metadata": {},
     "output_type": "execute_result"
    }
   ],
   "source": [
    "R0_3_eval * R0_3.inv().evalf(subs={q1:0.3, q2:0.5, q3:1})"
   ]
  },
  {
   "cell_type": "code",
   "execution_count": 224,
   "metadata": {
    "collapsed": false,
    "scrolled": true
   },
   "outputs": [
    {
     "data": {
      "text/plain": [
       "Matrix([\n",
       "[              -2.0,                 0,    0.617199647672029],\n",
       "[                 0,              -4.0,    0.786806580369994],\n",
       "[-0.361634032051467, 0.932320131104225, 2.03602583172041e-17]])"
      ]
     },
     "execution_count": 224,
     "metadata": {},
     "output_type": "execute_result"
    }
   ],
   "source": [
    "R0_3 = R0_3.evalf(subs={q1:theta1, q2:theta2, q3:theta3})\n",
    "R0_3.inv()"
   ]
  },
  {
   "cell_type": "code",
   "execution_count": 180,
   "metadata": {
    "collapsed": false
   },
   "outputs": [],
   "source": [
    "roll, pitch, yaw = symbols('roll pitch yaw')"
   ]
  },
  {
   "cell_type": "code",
   "execution_count": 245,
   "metadata": {
    "collapsed": true
   },
   "outputs": [],
   "source": [
    "R_z = Matrix([[cos(pi), -sin(pi), 0, 0],\n",
    "              [sin(pi), cos(pi), 0, 0],\n",
    "              [0,       0,       1, 0],\n",
    "              [0,       0,       0, 1]])\n",
    "R_y = Matrix([[cos(-pi/2), 0, sin(-pi/2), 0],\n",
    "              [0,          1, 0,          0],\n",
    "              [-sin(-pi/2),       0,       cos(-pi/2), 0],\n",
    "              [0,       0,       0, 1]])\n",
    "\n",
    "R_corr = simplify(R_z * R_y)[:3, :3]"
   ]
  },
  {
   "cell_type": "code",
   "execution_count": 246,
   "metadata": {
    "collapsed": false
   },
   "outputs": [
    {
     "data": {
      "text/plain": [
       "(3, 3)"
      ]
     },
     "execution_count": 246,
     "metadata": {},
     "output_type": "execute_result"
    }
   ],
   "source": [
    "R_corr.shape"
   ]
  },
  {
   "cell_type": "code",
   "execution_count": 247,
   "metadata": {
    "collapsed": false
   },
   "outputs": [],
   "source": [
    "Rrpy = Matrix([\n",
    "[cos(pitch)*cos(yaw), sin(pitch)*sin(roll)*cos(yaw) - sin(yaw)*cos(roll), sin(pitch)*cos(roll)*cos(yaw) + sin(roll)*sin(yaw)],\n",
    "[sin(yaw)*cos(pitch), sin(pitch)*sin(roll)*sin(yaw) + cos(roll)*cos(yaw), sin(pitch)*sin(yaw)*cos(roll) - sin(roll)*cos(yaw)],\n",
    "[        -sin(pitch),                               sin(roll)*cos(pitch),                               cos(pitch)*cos(roll)]])\n",
    "\n",
    "Rrpy = Rrpy * R_corr"
   ]
  },
  {
   "cell_type": "code",
   "execution_count": 232,
   "metadata": {
    "collapsed": false
   },
   "outputs": [
    {
     "data": {
      "text/plain": [
       "Matrix([\n",
       "[-sin(q4)*sin(q6) + cos(q4)*cos(q5)*cos(q6), -sin(q4)*cos(q6) - sin(q6)*cos(q4)*cos(q5), -sin(q5)*cos(q4)],\n",
       "[                           sin(q5)*cos(q6),                           -sin(q5)*sin(q6),          cos(q5)],\n",
       "[-sin(q4)*cos(q5)*cos(q6) - sin(q6)*cos(q4),  sin(q4)*sin(q6)*cos(q5) - cos(q4)*cos(q6),  sin(q4)*sin(q5)]])"
      ]
     },
     "execution_count": 232,
     "metadata": {},
     "output_type": "execute_result"
    }
   ],
   "source": [
    "T3_6 = T3_4 * T4_5 * T5_6\n",
    "R3_6_fwd = T3_6[0:3, 0:3]\n",
    "R3_6_fwd"
   ]
  },
  {
   "cell_type": "code",
   "execution_count": 233,
   "metadata": {
    "collapsed": false
   },
   "outputs": [
    {
     "data": {
      "text/plain": [
       "cos(q5)"
      ]
     },
     "execution_count": 233,
     "metadata": {},
     "output_type": "execute_result"
    }
   ],
   "source": [
    "R3_6_fwd[1,2]"
   ]
  },
  {
   "cell_type": "code",
   "execution_count": 250,
   "metadata": {
    "collapsed": false
   },
   "outputs": [
    {
     "data": {
      "text/plain": [
       "0.937967135609671"
      ]
     },
     "execution_count": 250,
     "metadata": {},
     "output_type": "execute_result"
    }
   ],
   "source": [
    "theta5 = acos(R3_6[1,2])\n",
    "theta5"
   ]
  },
  {
   "cell_type": "code",
   "execution_count": 251,
   "metadata": {
    "collapsed": false
   },
   "outputs": [
    {
     "data": {
      "text/plain": [
       "-0.720899547824588"
      ]
     },
     "execution_count": 251,
     "metadata": {},
     "output_type": "execute_result"
    }
   ],
   "source": [
    "theta6 = atan2(-R3_6[1,1], R3_6[1,0])\n",
    "theta6"
   ]
  },
  {
   "cell_type": "code",
   "execution_count": 252,
   "metadata": {
    "collapsed": false
   },
   "outputs": [
    {
     "data": {
      "text/plain": [
       "-1.32416701874098"
      ]
     },
     "execution_count": 252,
     "metadata": {},
     "output_type": "execute_result"
    }
   ],
   "source": [
    "theta4 = atan2(R3_6[2,2], -R3_6[0,2])\n",
    "theta4 "
   ]
  },
  {
   "cell_type": "code",
   "execution_count": 225,
   "metadata": {
    "collapsed": true
   },
   "outputs": [],
   "source": [
    "R0_3 = T0_3[0:3, 0:3]\n",
    "R0_3_inv = Transpose(R0_3.evalf(subs={q1:theta1, q2:theta2, q3:theta3}))"
   ]
  },
  {
   "cell_type": "code",
   "execution_count": 249,
   "metadata": {
    "collapsed": false
   },
   "outputs": [
    {
     "data": {
      "text/plain": [
       "Matrix([\n",
       "[-0.531620742830221, 0.823786968004105, -0.196861416075492],\n",
       "[ 0.605745633761578, 0.532244870608541,  0.591428461345649],\n",
       "[ 0.591989537890179, 0.195167694707658, -0.781957772498662]])"
      ]
     },
     "execution_count": 249,
     "metadata": {},
     "output_type": "execute_result"
    }
   ],
   "source": [
    "R3_6 = R0_3_inv * Rrpy.subs({roll:-1.412, pitch:-0.351, yaw:-0.614})\n",
    "R3_6"
   ]
  },
  {
   "cell_type": "code",
   "execution_count": 226,
   "metadata": {
    "collapsed": false
   },
   "outputs": [
    {
     "data": {
      "text/plain": [
       "Matrix([\n",
       "[-0.196861416075492, -0.823786968004105, -0.531620742830221],\n",
       "[ 0.591428461345649, -0.532244870608541,  0.605745633761578],\n",
       "[-0.781957772498662, -0.195167694707658,  0.591989537890179]])"
      ]
     },
     "execution_count": 226,
     "metadata": {},
     "output_type": "execute_result"
    }
   ],
   "source": [
    "R3_6 = R0_3_inv * Rrpy.subs({roll:-1.412, pitch:-0.351, yaw:-0.614})\n",
    "R3_6"
   ]
  },
  {
   "cell_type": "code",
   "execution_count": 198,
   "metadata": {
    "collapsed": false
   },
   "outputs": [
    {
     "ename": "NameError",
     "evalue": "name 'tf' is not defined",
     "output_type": "error",
     "traceback": [
      "\u001b[0;31m---------------------------------------------------------------------------\u001b[0m",
      "\u001b[0;31mNameError\u001b[0m                                 Traceback (most recent call last)",
      "\u001b[0;32m<ipython-input-198-27e7e455fcea>\u001b[0m in \u001b[0;36m<module>\u001b[0;34m()\u001b[0m\n\u001b[0;32m----> 1\u001b[0;31m theta4, theta5, theta6 = tf.transformations.euler_from_matrix(\n\u001b[0m\u001b[1;32m      2\u001b[0m   np.array(R3_6_eval).astype(np.float64), axes = 'ryzx')\n\u001b[1;32m      3\u001b[0m \u001b[0;34m\u001b[0m\u001b[0m\n\u001b[1;32m      4\u001b[0m \u001b[0mtheta5\u001b[0m \u001b[0;34m=\u001b[0m \u001b[0mtheta5\u001b[0m \u001b[0;34m-\u001b[0m \u001b[0mpi\u001b[0m\u001b[0;34m/\u001b[0m\u001b[0;36m2\u001b[0m\u001b[0;34m\u001b[0m\u001b[0m\n\u001b[1;32m      5\u001b[0m \u001b[0mtheta6\u001b[0m \u001b[0;34m=\u001b[0m \u001b[0mtheta6\u001b[0m \u001b[0;34m-\u001b[0m \u001b[0mpi\u001b[0m\u001b[0;34m/\u001b[0m\u001b[0;36m2\u001b[0m\u001b[0;34m\u001b[0m\u001b[0m\n",
      "\u001b[0;31mNameError\u001b[0m: name 'tf' is not defined"
     ]
    }
   ],
   "source": [
    "theta4, theta5, theta6 = tf.transformations.euler_from_matrix(\n",
    "  np.array(R3_6_eval).astype(np.float64), axes = 'ryzx')\n",
    "\n",
    "theta5 = theta5 - pi/2\n",
    "theta6 = theta6 - pi/2"
   ]
  },
  {
   "cell_type": "code",
   "execution_count": 197,
   "metadata": {
    "collapsed": false
   },
   "outputs": [
    {
     "data": {
      "text/plain": [
       "-2.184795"
      ]
     },
     "execution_count": 197,
     "metadata": {},
     "output_type": "execute_result"
    }
   ],
   "source": [
    "-0.614- 3.14159/2"
   ]
  },
  {
   "cell_type": "code",
   "execution_count": 190,
   "metadata": {
    "collapsed": true
   },
   "outputs": [],
   "source": [
    "R0_4 = T0_4.subs({q1: theta1, q2: theta2, q3: theta3, q4: 0})[:3,:3]\n",
    "R4_6 = R0_4.T * Rrpy.subs({roll:-1.412, pitch:-0.351, yaw:-0.614})\n",
    "\n",
    "theta4 = atan2(-R4_6[1,2], -R4_6[0,2])\n",
    "theta6 = atan2(-R4_6[2,1], R4_6[2,0])"
   ]
  },
  {
   "cell_type": "code",
   "execution_count": 193,
   "metadata": {
    "collapsed": false
   },
   "outputs": [
    {
     "data": {
      "text/plain": [
       "0.732777038685483"
      ]
     },
     "execution_count": 193,
     "metadata": {},
     "output_type": "execute_result"
    }
   ],
   "source": [
    "theta6"
   ]
  },
  {
   "cell_type": "code",
   "execution_count": 184,
   "metadata": {
    "collapsed": false
   },
   "outputs": [],
   "source": [
    "r31 = R3_6[2,0]\n",
    "r11 = R3_6[0,0]\n",
    "r21 = R3_6[1,0]\n",
    "r32 = R3_6[2,1]\n",
    "r33 = R3_6[2,2]\n",
    "# Euler Angles from Rotation Matrix\n",
    "theta4  = atan2(-r31, sqrt(r11 * r11 + r21 * r21))\n",
    "theta5 = atan2(r32, r33)\n",
    "theta6 = atan2(r21, r11)"
   ]
  },
  {
   "cell_type": "code",
   "execution_count": 185,
   "metadata": {
    "collapsed": false
   },
   "outputs": [
    {
     "data": {
      "text/plain": [
       "0.897783839646603"
      ]
     },
     "execution_count": 185,
     "metadata": {},
     "output_type": "execute_result"
    }
   ],
   "source": [
    "theta4"
   ]
  },
  {
   "cell_type": "code",
   "execution_count": 186,
   "metadata": {
    "collapsed": false
   },
   "outputs": [
    {
     "data": {
      "text/plain": [
       "-0.318442193823792"
      ]
     },
     "execution_count": 186,
     "metadata": {},
     "output_type": "execute_result"
    }
   ],
   "source": [
    "theta5"
   ]
  },
  {
   "cell_type": "code",
   "execution_count": 187,
   "metadata": {
    "collapsed": false
   },
   "outputs": [
    {
     "data": {
      "text/plain": [
       "-1.24507800307608 + pi"
      ]
     },
     "execution_count": 187,
     "metadata": {},
     "output_type": "execute_result"
    }
   ],
   "source": [
    "theta6"
   ]
  },
  {
   "cell_type": "raw",
   "metadata": {},
   "source": [
    "theta4 = atan2(R3_6[1,0], R3_6[0,0])\n",
    "theta5 = atan2(-R3_6[2,0], sqrt(R3_6[0,0]*R3_6[0,0]+R3_6[1,0]*R3_6[1,0]))\n",
    "theta6 = atan2(R3_6[2,1], R3_6[2,2])"
   ]
  },
  {
   "cell_type": "code",
   "execution_count": 136,
   "metadata": {
    "collapsed": false
   },
   "outputs": [
    {
     "data": {
      "text/plain": [
       "Matrix([\n",
       "[ 1.65208761522174],\n",
       "[0.640783925772376],\n",
       "[ 3.36020478385184],\n",
       "[                1]])"
      ]
     },
     "execution_count": 136,
     "metadata": {},
     "output_type": "execute_result"
    }
   ],
   "source": [
    "T0_G.subs({q1:0.37, q2: 0.22, q3:-1.13, q4:-0.77, q5: 0, q6:0}).col(3)"
   ]
  },
  {
   "cell_type": "code",
   "execution_count": null,
   "metadata": {
    "collapsed": true
   },
   "outputs": [],
   "source": []
  }
 ],
 "metadata": {
  "anaconda-cloud": {},
  "kernelspec": {
   "display_name": "Python [conda env:IntroToTensorFlow]",
   "language": "python",
   "name": "conda-env-IntroToTensorFlow-py"
  },
  "language_info": {
   "codemirror_mode": {
    "name": "ipython",
    "version": 3
   },
   "file_extension": ".py",
   "mimetype": "text/x-python",
   "name": "python",
   "nbconvert_exporter": "python",
   "pygments_lexer": "ipython3",
   "version": "3.5.2"
  }
 },
 "nbformat": 4,
 "nbformat_minor": 1
}
